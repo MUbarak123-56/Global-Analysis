{
 "cells": [
  {
   "cell_type": "code",
   "execution_count": 1,
   "id": "97b4d5c3",
   "metadata": {},
   "outputs": [],
   "source": [
    "import os\n",
    "import pandas as pd"
   ]
  },
  {
   "cell_type": "code",
   "execution_count": 2,
   "id": "319884d8",
   "metadata": {},
   "outputs": [],
   "source": [
    "import pycountry"
   ]
  },
  {
   "cell_type": "code",
   "execution_count": 3,
   "id": "13e1f07f",
   "metadata": {},
   "outputs": [],
   "source": [
    "df = pd.read_csv(\"new_gapminder.csv\")"
   ]
  },
  {
   "cell_type": "code",
   "execution_count": 4,
   "id": "eaa23b8d",
   "metadata": {},
   "outputs": [],
   "source": [
    "df[\"country\"] = df[\"country\"].replace([\"Brunei\", ],[\"Brunei Darussalam\"])"
   ]
  },
  {
   "cell_type": "code",
   "execution_count": 5,
   "id": "b9814ab0",
   "metadata": {},
   "outputs": [],
   "source": [
    "country = list(df[\"country\"].unique())"
   ]
  },
  {
   "cell_type": "code",
   "execution_count": 6,
   "id": "74678a3c",
   "metadata": {},
   "outputs": [],
   "source": [
    "country_code = []\n",
    "for co in country:\n",
    "    country_code.append(pycountry.countries.get(name=co))"
   ]
  },
  {
   "cell_type": "code",
   "execution_count": 7,
   "id": "0b976977",
   "metadata": {},
   "outputs": [
    {
     "name": "stdout",
     "output_type": "stream",
     "text": [
      "['Afghanistan', 'Albania', 'Algeria', 'Andorra', 'Angola', 'Antigua and Barbuda', 'Argentina', 'Armenia', 'Australia', 'Austria', 'Azerbaijan', 'Bahrain', 'Bangladesh', 'Barbados', 'Belarus', 'Belgium', 'Belize', 'Benin', 'Bhutan', 'Bolivia, Plurinational State of', 'Bosnia and Herzegovina', 'Botswana', 'Brazil', 'Brunei Darussalam', 'Bulgaria', 'Burkina Faso', 'Burundi', 'Cambodia', 'Cameroon', 'Canada', 'Central African Republic', 'Chad', 'Chile', 'China', 'Colombia', 'Comoros', 'Costa Rica', \"Côte d'Ivoire\", 'Croatia', 'Cuba', 'Cyprus', 'Czechia', 'Denmark', 'Djibouti', 'Dominica', 'Dominican Republic', 'Ecuador', 'Egypt', 'El Salvador', 'Equatorial Guinea', 'Eritrea', 'Estonia', 'Ethiopia', 'Fiji', 'Finland', 'France', 'Gabon', 'Georgia', 'Germany', 'Ghana', 'Greece', 'Grenada', 'Guatemala', 'Guinea', 'Guinea-Bissau', 'Guyana', 'Haiti', 'Honduras', 'Hungary', 'Iceland', 'India', 'Indonesia', 'Iran, Islamic Republic of', 'Iraq', 'Ireland', 'Israel', 'Italy', 'Jamaica', 'Japan', 'Jordan', 'Kazakhstan', 'Kenya', 'Kiribati', 'Kuwait', 'Latvia', 'Lebanon', 'Lesotho', 'Liberia', 'Libya', 'Lithuania', 'Luxembourg', 'Madagascar', 'Malawi', 'Malaysia', 'Maldives', 'Mali', 'Malta', 'Marshall Islands', 'Mauritania', 'Mauritius', 'Mexico', 'Micronesia, Federated States of', 'Moldova, Republic of', 'Mongolia', 'Montenegro', 'Morocco', 'Mozambique', 'Myanmar', 'Namibia', 'Nepal', 'Netherlands', 'New Zealand', 'Nicaragua', 'Niger', 'Nigeria', \"Korea, Democratic People's Republic of\", 'North Macedonia', 'Norway', 'Oman', 'Pakistan', 'Panama', 'Papua New Guinea', 'Paraguay', 'Peru', 'Philippines', 'Poland', 'Portugal', 'Qatar', 'Romania', 'Russian Federation', 'Rwanda', 'Samoa', 'Sao Tome and Principe', 'Saudi Arabia', 'Senegal', 'Serbia', 'Seychelles', 'Sierra Leone', 'Singapore', 'Slovenia', 'Solomon Islands', 'Somalia', 'South Africa', 'Korea, Republic of', 'South Sudan', 'Spain', 'Sri Lanka', 'Saint Lucia', 'Saint Vincent and the Grenadines', 'Sudan', 'Suriname', 'Eswatini', 'Sweden', 'Switzerland', 'Syrian Arab Republic', 'Tajikistan', 'Tanzania, United Republic of', 'Thailand', 'Timor-Leste', 'Togo', 'Tonga', 'Trinidad and Tobago', 'Tunisia', 'Turkey', 'Turkmenistan', 'Uganda', 'Ukraine', 'United Arab Emirates', 'United Kingdom', 'United States', 'Uruguay', 'Uzbekistan', 'Vanuatu', 'Venezuela, Bolivarian Republic of', 'Viet Nam', 'Yemen', 'Zambia', 'Zimbabwe']\n"
     ]
    }
   ],
   "source": [
    "country_new = country.copy()\n",
    "for i in range(len(country_new)):\n",
    "    if country_new[i] == 'Brunei':\n",
    "        country_new[i] = 'Brunei Darussalam'\n",
    "    elif country_new[i] == 'Czech Republic':\n",
    "        country_new[i] = 'Czechia'\n",
    "    elif country_new[i] == \"Cote d'Ivoire\":\n",
    "        country_new[i] = \"Côte d'Ivoire\"\n",
    "    elif country_new[i] == 'Iran':\n",
    "        country_new[i] = 'Iran, Islamic Republic of'  \n",
    "    elif country_new[i] == 'Micronesia, Fed. Sts.':\n",
    "        country_new[i] = 'Micronesia, Federated States of'  \n",
    "    elif country_new[i] == 'Moldova':\n",
    "        country_new[i] = 'Moldova, Republic of'      \n",
    "    elif country_new[i] == 'Russia':\n",
    "        country_new[i] = 'Russian Federation' \n",
    "    elif country_new[i] == 'North Korea':\n",
    "        country_new[i] = \"Korea, Democratic People's Republic of\" \n",
    "    elif country_new[i] == 'St. Lucia':\n",
    "        country_new[i] = \"Saint Lucia\"\n",
    "    elif country_new[i] == 'St. Vincent and the Grenadines':\n",
    "        country_new[i] = \"Saint Vincent and the Grenadines\"\n",
    "    elif country_new[i] == 'Vietnam':\n",
    "        country_new[i] = \"Viet Nam\"\n",
    "    elif country_new[i] == 'Bolivia':\n",
    "        country_new[i] = \"Bolivia, Plurinational State of\"\n",
    "    elif country_new[i] == 'South Korea':\n",
    "        country_new[i] = \"Korea, Republic of\"\n",
    "    elif country_new[i] == 'Venezuela':\n",
    "        country_new[i] = \"Venezuela, Bolivarian Republic of\"\n",
    "    elif country_new[i] == 'Syria':\n",
    "        country_new[i] = \"Syrian Arab Republic\"\n",
    "    elif country_new[i] == 'Swaziland':\n",
    "        country_new[i] = \"Eswatini\"\n",
    "    elif country_new[i] == 'Tanzania':\n",
    "        country_new[i] = \"Tanzania, United Republic of\"\n",
    "print(country_new)"
   ]
  },
  {
   "cell_type": "code",
   "execution_count": 8,
   "id": "bc8dc6de",
   "metadata": {},
   "outputs": [],
   "source": [
    "country_code = []\n",
    "for co in country_new:\n",
    "    con = str(pycountry.countries.get(name=co))[17:19]\n",
    "    country_code.append(con)"
   ]
  },
  {
   "cell_type": "code",
   "execution_count": 9,
   "id": "ea781dbc",
   "metadata": {},
   "outputs": [
    {
     "data": {
      "text/plain": [
       "'BR'"
      ]
     },
     "execution_count": 9,
     "metadata": {},
     "output_type": "execute_result"
    }
   ],
   "source": [
    "str(pycountry.countries.get(name=\"Brazil\"))[17:19]"
   ]
  },
  {
   "cell_type": "code",
   "execution_count": 10,
   "id": "883253f8",
   "metadata": {},
   "outputs": [
    {
     "data": {
      "text/plain": [
       "178"
      ]
     },
     "execution_count": 10,
     "metadata": {},
     "output_type": "execute_result"
    }
   ],
   "source": [
    "len(country_new)"
   ]
  },
  {
   "cell_type": "code",
   "execution_count": 11,
   "id": "3c643129",
   "metadata": {},
   "outputs": [
    {
     "data": {
      "text/plain": [
       "178"
      ]
     },
     "execution_count": 11,
     "metadata": {},
     "output_type": "execute_result"
    }
   ],
   "source": [
    "len(country)"
   ]
  },
  {
   "cell_type": "code",
   "execution_count": 12,
   "id": "784a75a5",
   "metadata": {},
   "outputs": [
    {
     "data": {
      "text/html": [
       "<div>\n",
       "<style scoped>\n",
       "    .dataframe tbody tr th:only-of-type {\n",
       "        vertical-align: middle;\n",
       "    }\n",
       "\n",
       "    .dataframe tbody tr th {\n",
       "        vertical-align: top;\n",
       "    }\n",
       "\n",
       "    .dataframe thead th {\n",
       "        text-align: right;\n",
       "    }\n",
       "</style>\n",
       "<table border=\"1\" class=\"dataframe\">\n",
       "  <thead>\n",
       "    <tr style=\"text-align: right;\">\n",
       "      <th></th>\n",
       "      <th>country</th>\n",
       "      <th>other_name</th>\n",
       "      <th>alpha_2 code</th>\n",
       "    </tr>\n",
       "  </thead>\n",
       "  <tbody>\n",
       "    <tr>\n",
       "      <th>0</th>\n",
       "      <td>Afghanistan</td>\n",
       "      <td>Afghanistan</td>\n",
       "      <td>AF</td>\n",
       "    </tr>\n",
       "    <tr>\n",
       "      <th>1</th>\n",
       "      <td>Albania</td>\n",
       "      <td>Albania</td>\n",
       "      <td>AL</td>\n",
       "    </tr>\n",
       "    <tr>\n",
       "      <th>2</th>\n",
       "      <td>Algeria</td>\n",
       "      <td>Algeria</td>\n",
       "      <td>DZ</td>\n",
       "    </tr>\n",
       "    <tr>\n",
       "      <th>3</th>\n",
       "      <td>Andorra</td>\n",
       "      <td>Andorra</td>\n",
       "      <td>AD</td>\n",
       "    </tr>\n",
       "    <tr>\n",
       "      <th>4</th>\n",
       "      <td>Angola</td>\n",
       "      <td>Angola</td>\n",
       "      <td>AO</td>\n",
       "    </tr>\n",
       "    <tr>\n",
       "      <th>...</th>\n",
       "      <td>...</td>\n",
       "      <td>...</td>\n",
       "      <td>...</td>\n",
       "    </tr>\n",
       "    <tr>\n",
       "      <th>173</th>\n",
       "      <td>Venezuela</td>\n",
       "      <td>Venezuela, Bolivarian Republic of</td>\n",
       "      <td>VE</td>\n",
       "    </tr>\n",
       "    <tr>\n",
       "      <th>174</th>\n",
       "      <td>Vietnam</td>\n",
       "      <td>Viet Nam</td>\n",
       "      <td>VN</td>\n",
       "    </tr>\n",
       "    <tr>\n",
       "      <th>175</th>\n",
       "      <td>Yemen</td>\n",
       "      <td>Yemen</td>\n",
       "      <td>YE</td>\n",
       "    </tr>\n",
       "    <tr>\n",
       "      <th>176</th>\n",
       "      <td>Zambia</td>\n",
       "      <td>Zambia</td>\n",
       "      <td>ZM</td>\n",
       "    </tr>\n",
       "    <tr>\n",
       "      <th>177</th>\n",
       "      <td>Zimbabwe</td>\n",
       "      <td>Zimbabwe</td>\n",
       "      <td>ZW</td>\n",
       "    </tr>\n",
       "  </tbody>\n",
       "</table>\n",
       "<p>178 rows × 3 columns</p>\n",
       "</div>"
      ],
      "text/plain": [
       "         country                         other_name alpha_2 code\n",
       "0    Afghanistan                        Afghanistan           AF\n",
       "1        Albania                            Albania           AL\n",
       "2        Algeria                            Algeria           DZ\n",
       "3        Andorra                            Andorra           AD\n",
       "4         Angola                             Angola           AO\n",
       "..           ...                                ...          ...\n",
       "173    Venezuela  Venezuela, Bolivarian Republic of           VE\n",
       "174      Vietnam                           Viet Nam           VN\n",
       "175        Yemen                              Yemen           YE\n",
       "176       Zambia                             Zambia           ZM\n",
       "177     Zimbabwe                           Zimbabwe           ZW\n",
       "\n",
       "[178 rows x 3 columns]"
      ]
     },
     "execution_count": 12,
     "metadata": {},
     "output_type": "execute_result"
    }
   ],
   "source": [
    "country_df = pd.DataFrame({\"country\":country,\"other_name\":country_new,\"alpha_2 code\":country_code})\n",
    "country_df"
   ]
  },
  {
   "cell_type": "code",
   "execution_count": 13,
   "id": "c13b2eb6",
   "metadata": {},
   "outputs": [
    {
     "data": {
      "text/html": [
       "<div>\n",
       "<style scoped>\n",
       "    .dataframe tbody tr th:only-of-type {\n",
       "        vertical-align: middle;\n",
       "    }\n",
       "\n",
       "    .dataframe tbody tr th {\n",
       "        vertical-align: top;\n",
       "    }\n",
       "\n",
       "    .dataframe thead th {\n",
       "        text-align: right;\n",
       "    }\n",
       "</style>\n",
       "<table border=\"1\" class=\"dataframe\">\n",
       "  <thead>\n",
       "    <tr style=\"text-align: right;\">\n",
       "      <th></th>\n",
       "      <th>country</th>\n",
       "      <th>year</th>\n",
       "      <th>Life_expectancy</th>\n",
       "      <th>Income</th>\n",
       "      <th>Population</th>\n",
       "      <th>Continent</th>\n",
       "      <th>other_name</th>\n",
       "      <th>alpha_2 code</th>\n",
       "    </tr>\n",
       "  </thead>\n",
       "  <tbody>\n",
       "    <tr>\n",
       "      <th>0</th>\n",
       "      <td>Afghanistan</td>\n",
       "      <td>1800</td>\n",
       "      <td>28.2</td>\n",
       "      <td>603</td>\n",
       "      <td>3280000</td>\n",
       "      <td>Asia</td>\n",
       "      <td>Afghanistan</td>\n",
       "      <td>AF</td>\n",
       "    </tr>\n",
       "    <tr>\n",
       "      <th>1</th>\n",
       "      <td>Afghanistan</td>\n",
       "      <td>1801</td>\n",
       "      <td>28.2</td>\n",
       "      <td>603</td>\n",
       "      <td>3280000</td>\n",
       "      <td>Asia</td>\n",
       "      <td>Afghanistan</td>\n",
       "      <td>AF</td>\n",
       "    </tr>\n",
       "    <tr>\n",
       "      <th>2</th>\n",
       "      <td>Afghanistan</td>\n",
       "      <td>1802</td>\n",
       "      <td>28.2</td>\n",
       "      <td>603</td>\n",
       "      <td>3280000</td>\n",
       "      <td>Asia</td>\n",
       "      <td>Afghanistan</td>\n",
       "      <td>AF</td>\n",
       "    </tr>\n",
       "    <tr>\n",
       "      <th>3</th>\n",
       "      <td>Afghanistan</td>\n",
       "      <td>1803</td>\n",
       "      <td>28.2</td>\n",
       "      <td>603</td>\n",
       "      <td>3280000</td>\n",
       "      <td>Asia</td>\n",
       "      <td>Afghanistan</td>\n",
       "      <td>AF</td>\n",
       "    </tr>\n",
       "    <tr>\n",
       "      <th>4</th>\n",
       "      <td>Afghanistan</td>\n",
       "      <td>1804</td>\n",
       "      <td>28.2</td>\n",
       "      <td>603</td>\n",
       "      <td>3280000</td>\n",
       "      <td>Asia</td>\n",
       "      <td>Afghanistan</td>\n",
       "      <td>AF</td>\n",
       "    </tr>\n",
       "    <tr>\n",
       "      <th>...</th>\n",
       "      <td>...</td>\n",
       "      <td>...</td>\n",
       "      <td>...</td>\n",
       "      <td>...</td>\n",
       "      <td>...</td>\n",
       "      <td>...</td>\n",
       "      <td>...</td>\n",
       "      <td>...</td>\n",
       "    </tr>\n",
       "    <tr>\n",
       "      <th>42893</th>\n",
       "      <td>Zimbabwe</td>\n",
       "      <td>2036</td>\n",
       "      <td>66.0</td>\n",
       "      <td>2900</td>\n",
       "      <td>19500000</td>\n",
       "      <td>Africa</td>\n",
       "      <td>Zimbabwe</td>\n",
       "      <td>ZW</td>\n",
       "    </tr>\n",
       "    <tr>\n",
       "      <th>42894</th>\n",
       "      <td>Zimbabwe</td>\n",
       "      <td>2037</td>\n",
       "      <td>66.2</td>\n",
       "      <td>2960</td>\n",
       "      <td>19900000</td>\n",
       "      <td>Africa</td>\n",
       "      <td>Zimbabwe</td>\n",
       "      <td>ZW</td>\n",
       "    </tr>\n",
       "    <tr>\n",
       "      <th>42895</th>\n",
       "      <td>Zimbabwe</td>\n",
       "      <td>2038</td>\n",
       "      <td>66.4</td>\n",
       "      <td>3020</td>\n",
       "      <td>20200000</td>\n",
       "      <td>Africa</td>\n",
       "      <td>Zimbabwe</td>\n",
       "      <td>ZW</td>\n",
       "    </tr>\n",
       "    <tr>\n",
       "      <th>42896</th>\n",
       "      <td>Zimbabwe</td>\n",
       "      <td>2039</td>\n",
       "      <td>66.6</td>\n",
       "      <td>3080</td>\n",
       "      <td>20500000</td>\n",
       "      <td>Africa</td>\n",
       "      <td>Zimbabwe</td>\n",
       "      <td>ZW</td>\n",
       "    </tr>\n",
       "    <tr>\n",
       "      <th>42897</th>\n",
       "      <td>Zimbabwe</td>\n",
       "      <td>2040</td>\n",
       "      <td>66.8</td>\n",
       "      <td>3140</td>\n",
       "      <td>20900000</td>\n",
       "      <td>Africa</td>\n",
       "      <td>Zimbabwe</td>\n",
       "      <td>ZW</td>\n",
       "    </tr>\n",
       "  </tbody>\n",
       "</table>\n",
       "<p>42898 rows × 8 columns</p>\n",
       "</div>"
      ],
      "text/plain": [
       "           country  year  Life_expectancy  Income  Population Continent  \\\n",
       "0      Afghanistan  1800             28.2     603     3280000      Asia   \n",
       "1      Afghanistan  1801             28.2     603     3280000      Asia   \n",
       "2      Afghanistan  1802             28.2     603     3280000      Asia   \n",
       "3      Afghanistan  1803             28.2     603     3280000      Asia   \n",
       "4      Afghanistan  1804             28.2     603     3280000      Asia   \n",
       "...            ...   ...              ...     ...         ...       ...   \n",
       "42893     Zimbabwe  2036             66.0    2900    19500000    Africa   \n",
       "42894     Zimbabwe  2037             66.2    2960    19900000    Africa   \n",
       "42895     Zimbabwe  2038             66.4    3020    20200000    Africa   \n",
       "42896     Zimbabwe  2039             66.6    3080    20500000    Africa   \n",
       "42897     Zimbabwe  2040             66.8    3140    20900000    Africa   \n",
       "\n",
       "        other_name alpha_2 code  \n",
       "0      Afghanistan           AF  \n",
       "1      Afghanistan           AF  \n",
       "2      Afghanistan           AF  \n",
       "3      Afghanistan           AF  \n",
       "4      Afghanistan           AF  \n",
       "...            ...          ...  \n",
       "42893     Zimbabwe           ZW  \n",
       "42894     Zimbabwe           ZW  \n",
       "42895     Zimbabwe           ZW  \n",
       "42896     Zimbabwe           ZW  \n",
       "42897     Zimbabwe           ZW  \n",
       "\n",
       "[42898 rows x 8 columns]"
      ]
     },
     "execution_count": 13,
     "metadata": {},
     "output_type": "execute_result"
    }
   ],
   "source": [
    "df_big = df.merge(country_df, how = \"inner\", on = \"country\")\n",
    "df_big"
   ]
  },
  {
   "cell_type": "code",
   "execution_count": 14,
   "id": "c06e87b0",
   "metadata": {},
   "outputs": [],
   "source": [
    "d2 = list(os.listdir(\"flags/\"))"
   ]
  },
  {
   "cell_type": "code",
   "execution_count": 15,
   "id": "812bde32",
   "metadata": {},
   "outputs": [
    {
     "data": {
      "text/plain": [
       "71"
      ]
     },
     "execution_count": 15,
     "metadata": {},
     "output_type": "execute_result"
    }
   ],
   "source": [
    "len(d2)"
   ]
  },
  {
   "cell_type": "code",
   "execution_count": 16,
   "id": "8da41a97",
   "metadata": {},
   "outputs": [
    {
     "data": {
      "text/plain": [
       "'AI'"
      ]
     },
     "execution_count": 16,
     "metadata": {},
     "output_type": "execute_result"
    }
   ],
   "source": [
    "d2[0][:2]"
   ]
  },
  {
   "cell_type": "code",
   "execution_count": 17,
   "id": "bfbdb772",
   "metadata": {},
   "outputs": [],
   "source": [
    "import shutil\n",
    "for i in range(len(d2)):\n",
    "    if d2[i][:2] in country_code:\n",
    "        shutil.move(\"flags/\" + d2[i],\"new_flags/\" + d2[i])"
   ]
  },
  {
   "cell_type": "code",
   "execution_count": 18,
   "id": "77f36c97",
   "metadata": {},
   "outputs": [
    {
     "data": {
      "text/plain": [
       "178"
      ]
     },
     "execution_count": 18,
     "metadata": {},
     "output_type": "execute_result"
    }
   ],
   "source": [
    "d3 = list(os.listdir(\"new_flags/\"))\n",
    "len(d3)"
   ]
  },
  {
   "cell_type": "code",
   "execution_count": 19,
   "id": "ff96f1c4",
   "metadata": {},
   "outputs": [],
   "source": [
    "d4 = []\n",
    "for i in range(len(d3)):\n",
    "    d4.append(d3[i][:2])"
   ]
  },
  {
   "cell_type": "code",
   "execution_count": 20,
   "id": "3e097d52",
   "metadata": {},
   "outputs": [
    {
     "data": {
      "text/plain": [
       "178"
      ]
     },
     "execution_count": 20,
     "metadata": {},
     "output_type": "execute_result"
    }
   ],
   "source": [
    "len(country_code)"
   ]
  },
  {
   "cell_type": "code",
   "execution_count": 21,
   "id": "1a1cf1af",
   "metadata": {},
   "outputs": [
    {
     "data": {
      "text/plain": [
       "178"
      ]
     },
     "execution_count": 21,
     "metadata": {},
     "output_type": "execute_result"
    }
   ],
   "source": [
    "len(d4)"
   ]
  },
  {
   "cell_type": "code",
   "execution_count": 27,
   "id": "516740df",
   "metadata": {},
   "outputs": [
    {
     "data": {
      "text/plain": [
       "{'AF': 'Afghanistan',\n",
       " 'AL': 'Albania',\n",
       " 'DZ': 'Algeria',\n",
       " 'AD': 'Andorra',\n",
       " 'AO': 'Angola',\n",
       " 'AG': 'Antigua and Barbuda',\n",
       " 'AR': 'Argentina',\n",
       " 'AM': 'Armenia',\n",
       " 'AU': 'Australia',\n",
       " 'AT': 'Austria',\n",
       " 'AZ': 'Azerbaijan',\n",
       " 'BH': 'Bahrain',\n",
       " 'BD': 'Bangladesh',\n",
       " 'BB': 'Barbados',\n",
       " 'BY': 'Belarus',\n",
       " 'BE': 'Belgium',\n",
       " 'BZ': 'Belize',\n",
       " 'BJ': 'Benin',\n",
       " 'BT': 'Bhutan',\n",
       " 'BO': 'Bolivia',\n",
       " 'BA': 'Bosnia and Herzegovina',\n",
       " 'BW': 'Botswana',\n",
       " 'BR': 'Brazil',\n",
       " 'BN': 'Brunei Darussalam',\n",
       " 'BG': 'Bulgaria',\n",
       " 'BF': 'Burkina Faso',\n",
       " 'BI': 'Burundi',\n",
       " 'KH': 'Cambodia',\n",
       " 'CM': 'Cameroon',\n",
       " 'CA': 'Canada',\n",
       " 'CF': 'Central African Republic',\n",
       " 'TD': 'Chad',\n",
       " 'CL': 'Chile',\n",
       " 'CN': 'China',\n",
       " 'CO': 'Colombia',\n",
       " 'KM': 'Comoros',\n",
       " 'CR': 'Costa Rica',\n",
       " 'CI': \"Cote d'Ivoire\",\n",
       " 'HR': 'Croatia',\n",
       " 'CU': 'Cuba',\n",
       " 'CY': 'Cyprus',\n",
       " 'CZ': 'Czech Republic',\n",
       " 'DK': 'Denmark',\n",
       " 'DJ': 'Djibouti',\n",
       " 'DM': 'Dominica',\n",
       " 'DO': 'Dominican Republic',\n",
       " 'EC': 'Ecuador',\n",
       " 'EG': 'Egypt',\n",
       " 'SV': 'El Salvador',\n",
       " 'GQ': 'Equatorial Guinea',\n",
       " 'ER': 'Eritrea',\n",
       " 'EE': 'Estonia',\n",
       " 'ET': 'Ethiopia',\n",
       " 'FJ': 'Fiji',\n",
       " 'FI': 'Finland',\n",
       " 'FR': 'France',\n",
       " 'GA': 'Gabon',\n",
       " 'GE': 'Georgia',\n",
       " 'DE': 'Germany',\n",
       " 'GH': 'Ghana',\n",
       " 'GR': 'Greece',\n",
       " 'GD': 'Grenada',\n",
       " 'GT': 'Guatemala',\n",
       " 'GN': 'Guinea',\n",
       " 'GW': 'Guinea-Bissau',\n",
       " 'GY': 'Guyana',\n",
       " 'HT': 'Haiti',\n",
       " 'HN': 'Honduras',\n",
       " 'HU': 'Hungary',\n",
       " 'IS': 'Iceland',\n",
       " 'IN': 'India',\n",
       " 'ID': 'Indonesia',\n",
       " 'IR': 'Iran',\n",
       " 'IQ': 'Iraq',\n",
       " 'IE': 'Ireland',\n",
       " 'IL': 'Israel',\n",
       " 'IT': 'Italy',\n",
       " 'JM': 'Jamaica',\n",
       " 'JP': 'Japan',\n",
       " 'JO': 'Jordan',\n",
       " 'KZ': 'Kazakhstan',\n",
       " 'KE': 'Kenya',\n",
       " 'KI': 'Kiribati',\n",
       " 'KW': 'Kuwait',\n",
       " 'LV': 'Latvia',\n",
       " 'LB': 'Lebanon',\n",
       " 'LS': 'Lesotho',\n",
       " 'LR': 'Liberia',\n",
       " 'LY': 'Libya',\n",
       " 'LT': 'Lithuania',\n",
       " 'LU': 'Luxembourg',\n",
       " 'MG': 'Madagascar',\n",
       " 'MW': 'Malawi',\n",
       " 'MY': 'Malaysia',\n",
       " 'MV': 'Maldives',\n",
       " 'ML': 'Mali',\n",
       " 'MT': 'Malta',\n",
       " 'MH': 'Marshall Islands',\n",
       " 'MR': 'Mauritania',\n",
       " 'MU': 'Mauritius',\n",
       " 'MX': 'Mexico',\n",
       " 'FM': 'Micronesia, Fed. Sts.',\n",
       " 'MD': 'Moldova',\n",
       " 'MN': 'Mongolia',\n",
       " 'ME': 'Montenegro',\n",
       " 'MA': 'Morocco',\n",
       " 'MZ': 'Mozambique',\n",
       " 'MM': 'Myanmar',\n",
       " 'NA': 'Namibia',\n",
       " 'NP': 'Nepal',\n",
       " 'NL': 'Netherlands',\n",
       " 'NZ': 'New Zealand',\n",
       " 'NI': 'Nicaragua',\n",
       " 'NE': 'Niger',\n",
       " 'NG': 'Nigeria',\n",
       " 'KP': 'North Korea',\n",
       " 'MK': 'North Macedonia',\n",
       " 'NO': 'Norway',\n",
       " 'OM': 'Oman',\n",
       " 'PK': 'Pakistan',\n",
       " 'PA': 'Panama',\n",
       " 'PG': 'Papua New Guinea',\n",
       " 'PY': 'Paraguay',\n",
       " 'PE': 'Peru',\n",
       " 'PH': 'Philippines',\n",
       " 'PL': 'Poland',\n",
       " 'PT': 'Portugal',\n",
       " 'QA': 'Qatar',\n",
       " 'RO': 'Romania',\n",
       " 'RU': 'Russia',\n",
       " 'RW': 'Rwanda',\n",
       " 'WS': 'Samoa',\n",
       " 'ST': 'Sao Tome and Principe',\n",
       " 'SA': 'Saudi Arabia',\n",
       " 'SN': 'Senegal',\n",
       " 'RS': 'Serbia',\n",
       " 'SC': 'Seychelles',\n",
       " 'SL': 'Sierra Leone',\n",
       " 'SG': 'Singapore',\n",
       " 'SI': 'Slovenia',\n",
       " 'SB': 'Solomon Islands',\n",
       " 'SO': 'Somalia',\n",
       " 'ZA': 'South Africa',\n",
       " 'KR': 'South Korea',\n",
       " 'SS': 'South Sudan',\n",
       " 'ES': 'Spain',\n",
       " 'LK': 'Sri Lanka',\n",
       " 'LC': 'St. Lucia',\n",
       " 'VC': 'St. Vincent and the Grenadines',\n",
       " 'SD': 'Sudan',\n",
       " 'SR': 'Suriname',\n",
       " 'SZ': 'Swaziland',\n",
       " 'SE': 'Sweden',\n",
       " 'CH': 'Switzerland',\n",
       " 'SY': 'Syria',\n",
       " 'TJ': 'Tajikistan',\n",
       " 'TZ': 'Tanzania',\n",
       " 'TH': 'Thailand',\n",
       " 'TL': 'Timor-Leste',\n",
       " 'TG': 'Togo',\n",
       " 'TO': 'Tonga',\n",
       " 'TT': 'Trinidad and Tobago',\n",
       " 'TN': 'Tunisia',\n",
       " 'TR': 'Turkey',\n",
       " 'TM': 'Turkmenistan',\n",
       " 'UG': 'Uganda',\n",
       " 'UA': 'Ukraine',\n",
       " 'AE': 'United Arab Emirates',\n",
       " 'GB': 'United Kingdom',\n",
       " 'US': 'United States',\n",
       " 'UY': 'Uruguay',\n",
       " 'UZ': 'Uzbekistan',\n",
       " 'VU': 'Vanuatu',\n",
       " 'VE': 'Venezuela',\n",
       " 'VN': 'Vietnam',\n",
       " 'YE': 'Yemen',\n",
       " 'ZM': 'Zambia',\n",
       " 'ZW': 'Zimbabwe'}"
      ]
     },
     "execution_count": 27,
     "metadata": {},
     "output_type": "execute_result"
    }
   ],
   "source": [
    "country_dict = {}\n",
    "for i in range(len(country_code)):\n",
    "    country_dict[country_code[i]] = country[i]\n",
    "country_dict"
   ]
  },
  {
   "cell_type": "code",
   "execution_count": 35,
   "id": "1f76e7dc",
   "metadata": {},
   "outputs": [],
   "source": [
    "import shutil\n",
    "for i in range(len(d3)):\n",
    "    if d3[i][:2] in country_code:\n",
    "        shutil.move(\"new_flags/\" + d3[i], \"country_flags/\" + country_dict[d3[i][:2]] + \".png\")"
   ]
  },
  {
   "cell_type": "code",
   "execution_count": 22,
   "id": "07884e49",
   "metadata": {},
   "outputs": [],
   "source": [
    "#df_big.to_excel(\"gapminder_revised.xlsx\", index = False)"
   ]
  },
  {
   "cell_type": "code",
   "execution_count": null,
   "id": "11e2ee63",
   "metadata": {},
   "outputs": [],
   "source": []
  }
 ],
 "metadata": {
  "kernelspec": {
   "display_name": "Python 3 (ipykernel)",
   "language": "python",
   "name": "python3"
  },
  "language_info": {
   "codemirror_mode": {
    "name": "ipython",
    "version": 3
   },
   "file_extension": ".py",
   "mimetype": "text/x-python",
   "name": "python",
   "nbconvert_exporter": "python",
   "pygments_lexer": "ipython3",
   "version": "3.10.4"
  }
 },
 "nbformat": 4,
 "nbformat_minor": 5
}
